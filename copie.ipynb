{
  "cells": [
    {
      "cell_type": "markdown",
      "metadata": {
        "id": "view-in-github",
        "colab_type": "text"
      },
      "source": [
        "<a href=\"https://colab.research.google.com/github/8johan/ML-PROJ/blob/main/copie.ipynb\" target=\"_parent\"><img src=\"https://colab.research.google.com/assets/colab-badge.svg\" alt=\"Open In Colab\"/></a>"
      ]
    },
    {
      "cell_type": "code",
      "source": [],
      "metadata": {
        "id": "ybUHBjaP2ocp"
      },
      "execution_count": null,
      "outputs": []
    },
    {
      "cell_type": "code",
      "source": [
        "import torch \n",
        "from __future__ import print_function, division\n",
        "import torch.nn as nn\n",
        "import torch.nn.functional as F\n",
        "import torch.utils.data\n",
        "import torch\n",
        "def double_conv(data , intc,outc):\n",
        "  convo=nn.Sequential(\n",
        "            nn.Conv2d(intc, outc, kernel_size=3, stride=1, padding=0, bias=True),\n",
        "            #nn.BatchNorm2d(outc),\n",
        "            #nn.ReLU(inplace=True),\n",
        "            nn.Conv2d(outc, outc, kernel_size=3, stride=1, padding=0, bias=True),\n",
        "            nn.BatchNorm2d(outc),\n",
        "            nn.ReLU(inplace=True))\n",
        "  x=convo(data)\n",
        "  return x\n",
        "def upconv(data , intc, outc):\n",
        "  upco=nn.ConvTranspose2d(intc, outc, kernel_size=2, stride=2, padding=0)\n",
        "  x=upco(data)\n",
        "  return x \n",
        "def crop_copy(img,x):\n",
        "  croped_size=x.size()[2]\n",
        "  crop = fn.center_crop(img, output_size=[croped_size])\n",
        "  y=torch.cat((x, crop), dim=1)\n",
        "  return y\n",
        "\n",
        "\n",
        "\n"
      ],
      "metadata": {
        "id": "lKO3SDKU2piM"
      },
      "execution_count": 13,
      "outputs": []
    },
    {
      "cell_type": "code",
      "source": [
        "class countarctive_path(nn.Module):\n",
        "  def __init__(self) :\n",
        "    \n",
        "    super().__init__()\n",
        "    self.l=[]\n",
        "    self.maxpoll=nn.MaxPool2d(kernel_size=2, stride=2)\n",
        "  def forward(self,data):\n",
        "    x=double_conv(data,3,64)\n",
        "    self.l.append(x)\n",
        "    x=self.maxpoll(x)\n",
        "   \n",
        "    print(x.size())\n",
        "    x=double_conv(x,64,128)\n",
        "    self.l.append(x)\n",
        "    x=self.maxpoll(x)\n",
        " \n",
        "    print(x.size())\n",
        "    x=double_conv(x,128,256)\n",
        "    self.l.append(x)\n",
        "    x=self.maxpoll(x)\n",
        "    \n",
        "    print(x.size())\n",
        "    x=double_conv(x,256,512)\n",
        "    self.l.append(x)\n",
        "    x=self.maxpoll(x)\n",
        "  \n",
        "    print(x.size())\n",
        "    x=double_conv(x,512,1024)\n",
        "  \n",
        "    \n",
        "  \n",
        "    return x\n",
        "\n",
        "  \n",
        "\n",
        "\n"
      ],
      "metadata": {
        "id": "jJADp6h0IFTc"
      },
      "execution_count": 14,
      "outputs": []
    },
    {
      "cell_type": "code",
      "source": [
        "class expansive_path(nn.Module):\n",
        "  def __init(self,x):\n",
        "    super().__init__()\n",
        "    self.l=x\n",
        "\n",
        "  def forward(self , data ,l):\n",
        "    x=upconv(data , 1024 ,512)\n",
        "    x=crop_copy(l[3],x)\n",
        "    x=double_conv(x ,1024 ,512)\n",
        "    x=upconv(x, 512 ,256)\n",
        "    x=crop_copy(l[2],x)\n",
        "    x=double_conv(x ,512 ,256)\n",
        "    x=upconv(x , 256,128)\n",
        "    x=crop_copy(l[1],x)\n",
        "    x=double_conv(x ,256 ,128)\n",
        "    x=upconv(x , 128 ,64)\n",
        "    x=crop_copy(l[0],x)\n",
        "    x=double_conv(x ,128 ,64)\n",
        "    conv1=nn.Conv2d(64, 2, kernel_size=1, stride=1, padding=0, bias=True)\n",
        "    x=conv1(x)\n",
        "    print(x.size())\n",
        "    return x \n",
        "   \n",
        "    \n",
        "\n",
        "\n"
      ],
      "metadata": {
        "id": "VSBpBOJ0qBpV"
      },
      "execution_count": 25,
      "outputs": []
    },
    {
      "cell_type": "code",
      "source": [
        "inputs = torch.randn((2, 3, 572, 572))\n",
        "model = countarctive_path()\n",
        "y = model.forward(inputs)\n",
        "l= model.l\n",
        "print(y.shape)\n"
      ],
      "metadata": {
        "colab": {
          "base_uri": "https://localhost:8080/"
        },
        "id": "AiP7E3KiLAJD",
        "outputId": "a75c9da4-69aa-4b85-bdc1-1ee9bd73c9e3"
      },
      "execution_count": 17,
      "outputs": [
        {
          "output_type": "stream",
          "name": "stdout",
          "text": [
            "torch.Size([2, 64, 284, 284])\n",
            "torch.Size([2, 128, 140, 140])\n",
            "torch.Size([2, 256, 68, 68])\n",
            "torch.Size([2, 512, 32, 32])\n",
            "torch.Size([2, 1024, 28, 28])\n"
          ]
        }
      ]
    },
    {
      "cell_type": "code",
      "source": [
        "x=upconv(y , 1024 ,512)\n",
        "print(x.size())\n",
        "x=crop_copy(l[3],x)\n",
        "print(x.size())\n",
        "x=double_conv(x ,1024 ,512)\n",
        "print(x.size())\n",
        "x=upconv(x, 512 ,256)\n",
        "print(x.size())\n",
        "x=crop_copy(l[2],x)\n",
        "print(x.size())\n",
        "x=double_conv(x ,512 ,256)\n",
        "print(x.size())\n",
        "x=upconv(x , 256,128)\n",
        "print(x.size())\n",
        "x=crop_copy(l[1],x)\n",
        "print(x.size())\n",
        "x=double_conv(x ,256 ,128)\n",
        "print(x.size())\n",
        "x=upconv(x , 128 ,64)\n",
        "print(x.size())\n",
        "x=crop_copy(l[0],x)\n",
        "x=double_conv(x ,128 ,64)\n",
        "print(x.size())\n",
        "\n",
        "print(x.size())\n",
        "upco=nn.Conv2d(64, 2, kernel_size=1, stride=1, padding=0, bias=True)\n",
        "x=upco(x)\n",
        "print(x.size())"
      ],
      "metadata": {
        "id": "NFkiYByMe0wj",
        "outputId": "63f6b1dd-5255-426c-cdff-62252e4126fa",
        "colab": {
          "base_uri": "https://localhost:8080/"
        }
      },
      "execution_count": 24,
      "outputs": [
        {
          "output_type": "stream",
          "name": "stdout",
          "text": [
            "torch.Size([2, 512, 56, 56])\n",
            "torch.Size([2, 1024, 56, 56])\n",
            "torch.Size([2, 512, 52, 52])\n",
            "torch.Size([2, 256, 104, 104])\n",
            "torch.Size([2, 512, 104, 104])\n",
            "torch.Size([2, 256, 100, 100])\n",
            "torch.Size([2, 128, 200, 200])\n",
            "torch.Size([2, 256, 200, 200])\n",
            "torch.Size([2, 128, 196, 196])\n",
            "torch.Size([2, 64, 392, 392])\n",
            "torch.Size([2, 64, 388, 388])\n",
            "torch.Size([2, 64, 388, 388])\n",
            "torch.Size([2, 2, 388, 388])\n"
          ]
        }
      ]
    },
    {
      "cell_type": "code",
      "source": [
        "l[3].size()"
      ],
      "metadata": {
        "colab": {
          "base_uri": "https://localhost:8080/"
        },
        "id": "CAPgzzZsAemU",
        "outputId": "09cfce0b-7b82-40c9-b7be-d972d2a978a5"
      },
      "execution_count": 7,
      "outputs": [
        {
          "output_type": "execute_result",
          "data": {
            "text/plain": [
              "torch.Size([2, 512, 64, 64])"
            ]
          },
          "metadata": {},
          "execution_count": 7
        }
      ]
    },
    {
      "cell_type": "code",
      "source": [
        "import torchvision.transforms.functional as fn"
      ],
      "metadata": {
        "id": "vWnmHn2LXB1k"
      },
      "execution_count": 1,
      "outputs": []
    },
    {
      "cell_type": "code",
      "source": [
        "crop = fn.center_crop(l[3], output_size=[56])"
      ],
      "metadata": {
        "id": "7wYBZbaLWyF1"
      },
      "execution_count": 8,
      "outputs": []
    },
    {
      "cell_type": "code",
      "source": [
        "crop.size()"
      ],
      "metadata": {
        "id": "7Jn2WykIXPIA",
        "outputId": "2cb8f5e2-a8a5-476a-a553-8283c8348bbc",
        "colab": {
          "base_uri": "https://localhost:8080/"
        }
      },
      "execution_count": 9,
      "outputs": [
        {
          "output_type": "execute_result",
          "data": {
            "text/plain": [
              "torch.Size([2, 512, 56, 56])"
            ]
          },
          "metadata": {},
          "execution_count": 9
        }
      ]
    },
    {
      "cell_type": "code",
      "source": [
        "x=upconv(y , 1024 ,512)"
      ],
      "metadata": {
        "id": "s0b8uisrA87Y"
      },
      "execution_count": 10,
      "outputs": []
    },
    {
      "cell_type": "code",
      "source": [
        "x.size()"
      ],
      "metadata": {
        "colab": {
          "base_uri": "https://localhost:8080/"
        },
        "id": "aeQJPrLxBNq5",
        "outputId": "46f375e1-561c-4d04-a7c4-b0586ff9a8d3"
      },
      "execution_count": 21,
      "outputs": [
        {
          "output_type": "execute_result",
          "data": {
            "text/plain": [
              "torch.Size([2, 512, 56, 56])"
            ]
          },
          "metadata": {},
          "execution_count": 21
        }
      ]
    },
    {
      "cell_type": "code",
      "source": [
        "x=torch.cat((x, crop), dim=1)"
      ],
      "metadata": {
        "id": "UXVzHVe4aBR3"
      },
      "execution_count": 11,
      "outputs": []
    },
    {
      "cell_type": "code",
      "source": [
        "x.size()"
      ],
      "metadata": {
        "id": "54_T1BT8XZ_-",
        "outputId": "dacde811-cdf2-42ae-be64-5dcba1f0d2cf",
        "colab": {
          "base_uri": "https://localhost:8080/"
        }
      },
      "execution_count": 12,
      "outputs": [
        {
          "output_type": "execute_result",
          "data": {
            "text/plain": [
              "torch.Size([2, 1024, 56, 56])"
            ]
          },
          "metadata": {},
          "execution_count": 12
        }
      ]
    },
    {
      "cell_type": "code",
      "source": [
        "model2=expansive_path()\n",
        "y=model2.forward(y,l)\n"
      ],
      "metadata": {
        "colab": {
          "base_uri": "https://localhost:8080/"
        },
        "id": "-KkL5c2DOCOG",
        "outputId": "4f6dda4e-9600-4b4a-d863-c3ff2f593f89"
      },
      "execution_count": 26,
      "outputs": [
        {
          "output_type": "stream",
          "name": "stdout",
          "text": [
            "torch.Size([2, 2, 388, 388])\n"
          ]
        }
      ]
    },
    {
      "cell_type": "code",
      "source": [
        "class unet(nn.Module):\n",
        "  def __init__(self) :\n",
        "    super().__init__()\n",
        "    self.countratpath=countarctive_path()\n",
        "    self.expansive_path=expansive_path\n",
        "  def forward(self,data):\n",
        "    x=self.countratpath.forward(data)\n",
        "    l=self.countratpath.l\n",
        "    x=\n"
      ],
      "metadata": {
        "id": "2azljm_VOfgS"
      },
      "execution_count": null,
      "outputs": []
    }
  ],
  "metadata": {
    "colab": {
      "name": "Bienvenue dans Colaboratory",
      "toc_visible": true,
      "provenance": [],
      "include_colab_link": true
    },
    "kernelspec": {
      "display_name": "Python 3",
      "name": "python3"
    }
  },
  "nbformat": 4,
  "nbformat_minor": 0
}