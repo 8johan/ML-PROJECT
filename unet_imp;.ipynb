{
  "cells": [
    {
      "cell_type": "markdown",
      "metadata": {
        "id": "view-in-github",
        "colab_type": "text"
      },
      "source": [
        "<a href=\"https://colab.research.google.com/github/8johan/ML-PROJ/blob/main/unet_imp%3B.ipynb\" target=\"_parent\"><img src=\"https://colab.research.google.com/assets/colab-badge.svg\" alt=\"Open In Colab\"/></a>"
      ]
    },
    {
      "cell_type": "code",
      "source": [],
      "metadata": {
        "id": "ybUHBjaP2ocp"
      },
      "execution_count": null,
      "outputs": []
    },
    {
      "cell_type": "code",
      "source": [
        "import torch \n",
        "from __future__ import print_function, division\n",
        "import torch.nn as nn\n",
        "import torch.nn.functional as F\n",
        "import torch.utils.data\n",
        "import torch\n",
        "def double_conv(data , intc,outc):\n",
        "  convo=nn.Sequential(\n",
        "            nn.Conv2d(intc, outc, kernel_size=3, stride=1, padding=0, bias=True),\n",
        "            #nn.BatchNorm2d(outc),\n",
        "            #nn.ReLU(inplace=True),\n",
        "            nn.Conv2d(outc, outc, kernel_size=3, stride=1, padding=0, bias=True),\n",
        "            nn.BatchNorm2d(outc),\n",
        "            nn.ReLU(inplace=True))\n",
        "  x=convo(data)\n",
        "  return x\n",
        "def upconv(data , intc, outc):\n",
        "  upco=nn.ConvTranspose2d(intc, outc, kernel_size=2, stride=2, padding=0)\n",
        "  x=upco(data)\n",
        "  return x \n",
        "\n"
      ],
      "metadata": {
        "id": "lKO3SDKU2piM"
      },
      "execution_count": 26,
      "outputs": []
    },
    {
      "cell_type": "code",
      "source": [
        "class countarctive_path(nn.Module):\n",
        "  def __init__(self) :\n",
        "    \n",
        "    super().__init__()\n",
        "    self.l=[]\n",
        "    self.maxpoll=nn.MaxPool2d(kernel_size=2, stride=2)\n",
        "  def forward(self,data):\n",
        "    x=double_conv(data,3,64)\n",
        "    self.l.append(x)\n",
        "    x=self.maxpoll(x)\n",
        "    self.l.append(x)\n",
        "    print(x.size())\n",
        "    x=double_conv(x,64,128)\n",
        "    x=self.maxpoll(x)\n",
        "    self.l.append(x)\n",
        "    print(x.size())\n",
        "    x=double_conv(x,128,256)\n",
        "    x=self.maxpoll(x)\n",
        "    self.l.append(x)\n",
        "    print(x.size())\n",
        "    x=double_conv(x,256,512)\n",
        "    x=self.maxpoll(x)\n",
        "    self.l.append(x)\n",
        "    print(x.size())\n",
        "    x=double_conv(x,512,1024)\n",
        "  \n",
        "    self.l.append(x)\n",
        "  \n",
        "    return x\n",
        "\n",
        "  \n",
        "\n",
        "\n"
      ],
      "metadata": {
        "id": "jJADp6h0IFTc"
      },
      "execution_count": 3,
      "outputs": []
    },
    {
      "cell_type": "code",
      "source": [
        "class expansive_path(nn.Module):\n",
        "  def __init(self,x):\n",
        "    super().__init__()\n",
        "    self.l=x\n",
        "\n",
        "  def forward(self , data ,l):\n",
        "    x=upconv(data , 1024 ,512)\n",
        "    x=torch.cat([x, l[3]], axis=1)\n",
        "    x=double_conv(x ,1024 ,512)\n",
        "    x=upconv(x, 512 ,256)\n",
        "    x=torch.cat([x, l[2]], axis=1)\n",
        "    x=double_conv(x ,512 ,256)\n",
        "    x=upconv(x , 256,128)\n",
        "    x=torch.cat([x, l[1]], axis=1)\n",
        "    x=double_conv(x ,265 ,128)\n",
        "    x=upconv(x , 128 ,64)\n",
        "    x=torch.cat([x, l[0]], axis=1)\n",
        "    x=double_conv(x ,128 ,64)\n",
        "    x=upconv(x , 64,2)\n",
        "    print(x.size())\n",
        "    return x \n",
        "   \n",
        "    \n",
        "\n",
        "\n"
      ],
      "metadata": {
        "id": "VSBpBOJ0qBpV"
      },
      "execution_count": 16,
      "outputs": []
    },
    {
      "cell_type": "code",
      "source": [
        "inputs = torch.randn((2, 3, 572, 572))\n",
        "model = countarctive_path()\n",
        "y = model.forward(inputs)\n",
        "l= model.l\n",
        "print(y.shape)\n"
      ],
      "metadata": {
        "colab": {
          "base_uri": "https://localhost:8080/"
        },
        "id": "AiP7E3KiLAJD",
        "outputId": "c9e5e2f9-51ae-4dd1-b8fb-9aac34cc5ead"
      },
      "execution_count": 27,
      "outputs": [
        {
          "output_type": "stream",
          "name": "stdout",
          "text": [
            "torch.Size([2, 64, 284, 284])\n",
            "torch.Size([2, 128, 140, 140])\n",
            "torch.Size([2, 256, 68, 68])\n",
            "torch.Size([2, 512, 32, 32])\n",
            "torch.Size([2, 1024, 28, 28])\n"
          ]
        }
      ]
    },
    {
      "cell_type": "code",
      "source": [
        "l[3].size()"
      ],
      "metadata": {
        "colab": {
          "base_uri": "https://localhost:8080/"
        },
        "id": "CAPgzzZsAemU",
        "outputId": "de444686-4309-43d1-e6f4-6e759f062a53"
      },
      "execution_count": 28,
      "outputs": [
        {
          "output_type": "execute_result",
          "data": {
            "text/plain": [
              "torch.Size([2, 512, 32, 32])"
            ]
          },
          "metadata": {},
          "execution_count": 28
        }
      ]
    },
    {
      "cell_type": "code",
      "source": [
        "x=upconv(y , 1024 ,512)"
      ],
      "metadata": {
        "id": "s0b8uisrA87Y"
      },
      "execution_count": 29,
      "outputs": []
    },
    {
      "cell_type": "code",
      "source": [
        "x.size()"
      ],
      "metadata": {
        "colab": {
          "base_uri": "https://localhost:8080/"
        },
        "id": "aeQJPrLxBNq5",
        "outputId": "88e7010a-1de0-46ee-8b26-1af263a29d34"
      },
      "execution_count": 30,
      "outputs": [
        {
          "output_type": "execute_result",
          "data": {
            "text/plain": [
              "torch.Size([2, 512, 56, 56])"
            ]
          },
          "metadata": {},
          "execution_count": 30
        }
      ]
    },
    {
      "cell_type": "code",
      "source": [
        "model2=expansive_path()\n",
        "y=model2.forward(y,l)\n"
      ],
      "metadata": {
        "colab": {
          "base_uri": "https://localhost:8080/",
          "height": 321
        },
        "id": "-KkL5c2DOCOG",
        "outputId": "67b29a0b-7c2c-40df-9235-87ca6db2997d"
      },
      "execution_count": 18,
      "outputs": [
        {
          "output_type": "error",
          "ename": "RuntimeError",
          "evalue": "ignored",
          "traceback": [
            "\u001b[0;31m---------------------------------------------------------------------------\u001b[0m",
            "\u001b[0;31mRuntimeError\u001b[0m                              Traceback (most recent call last)",
            "\u001b[0;32m<ipython-input-18-b42671cbe50f>\u001b[0m in \u001b[0;36m<module>\u001b[0;34m\u001b[0m\n\u001b[1;32m      1\u001b[0m \u001b[0mmodel2\u001b[0m\u001b[0;34m=\u001b[0m\u001b[0mexpansive_path\u001b[0m\u001b[0;34m(\u001b[0m\u001b[0;34m)\u001b[0m\u001b[0;34m\u001b[0m\u001b[0;34m\u001b[0m\u001b[0m\n\u001b[0;32m----> 2\u001b[0;31m \u001b[0my\u001b[0m\u001b[0;34m=\u001b[0m\u001b[0mmodel2\u001b[0m\u001b[0;34m.\u001b[0m\u001b[0mforward\u001b[0m\u001b[0;34m(\u001b[0m\u001b[0my\u001b[0m\u001b[0;34m,\u001b[0m\u001b[0ml\u001b[0m\u001b[0;34m)\u001b[0m\u001b[0;34m\u001b[0m\u001b[0;34m\u001b[0m\u001b[0m\n\u001b[0m",
            "\u001b[0;32m<ipython-input-16-43f733d34a50>\u001b[0m in \u001b[0;36mforward\u001b[0;34m(self, data, l)\u001b[0m\n\u001b[1;32m      6\u001b[0m   \u001b[0;32mdef\u001b[0m \u001b[0mforward\u001b[0m\u001b[0;34m(\u001b[0m\u001b[0mself\u001b[0m \u001b[0;34m,\u001b[0m \u001b[0mdata\u001b[0m \u001b[0;34m,\u001b[0m\u001b[0ml\u001b[0m\u001b[0;34m)\u001b[0m\u001b[0;34m:\u001b[0m\u001b[0;34m\u001b[0m\u001b[0;34m\u001b[0m\u001b[0m\n\u001b[1;32m      7\u001b[0m     \u001b[0mx\u001b[0m\u001b[0;34m=\u001b[0m\u001b[0mupconv\u001b[0m\u001b[0;34m(\u001b[0m\u001b[0mdata\u001b[0m \u001b[0;34m,\u001b[0m \u001b[0;36m1024\u001b[0m \u001b[0;34m,\u001b[0m\u001b[0;36m512\u001b[0m\u001b[0;34m)\u001b[0m\u001b[0;34m\u001b[0m\u001b[0;34m\u001b[0m\u001b[0m\n\u001b[0;32m----> 8\u001b[0;31m     \u001b[0mx\u001b[0m\u001b[0;34m=\u001b[0m\u001b[0mtorch\u001b[0m\u001b[0;34m.\u001b[0m\u001b[0mcat\u001b[0m\u001b[0;34m(\u001b[0m\u001b[0;34m[\u001b[0m\u001b[0mx\u001b[0m\u001b[0;34m,\u001b[0m \u001b[0ml\u001b[0m\u001b[0;34m[\u001b[0m\u001b[0;36m3\u001b[0m\u001b[0;34m]\u001b[0m\u001b[0;34m]\u001b[0m\u001b[0;34m,\u001b[0m \u001b[0maxis\u001b[0m\u001b[0;34m=\u001b[0m\u001b[0;36m1\u001b[0m\u001b[0;34m)\u001b[0m\u001b[0;34m\u001b[0m\u001b[0;34m\u001b[0m\u001b[0m\n\u001b[0m\u001b[1;32m      9\u001b[0m     \u001b[0mx\u001b[0m\u001b[0;34m=\u001b[0m\u001b[0mdouble_conv\u001b[0m\u001b[0;34m(\u001b[0m\u001b[0mx\u001b[0m \u001b[0;34m,\u001b[0m\u001b[0;36m1024\u001b[0m \u001b[0;34m,\u001b[0m\u001b[0;36m512\u001b[0m\u001b[0;34m)\u001b[0m\u001b[0;34m\u001b[0m\u001b[0;34m\u001b[0m\u001b[0m\n\u001b[1;32m     10\u001b[0m     \u001b[0mx\u001b[0m\u001b[0;34m=\u001b[0m\u001b[0mupconv\u001b[0m\u001b[0;34m(\u001b[0m\u001b[0mx\u001b[0m\u001b[0;34m,\u001b[0m \u001b[0;36m512\u001b[0m \u001b[0;34m,\u001b[0m\u001b[0;36m256\u001b[0m\u001b[0;34m)\u001b[0m\u001b[0;34m\u001b[0m\u001b[0;34m\u001b[0m\u001b[0m\n",
            "\u001b[0;31mRuntimeError\u001b[0m: Sizes of tensors must match except in dimension 1. Expected size 70 but got size 35 for tensor number 1 in the list."
          ]
        }
      ]
    },
    {
      "cell_type": "code",
      "source": [],
      "metadata": {
        "id": "2azljm_VOfgS"
      },
      "execution_count": null,
      "outputs": []
    }
  ],
  "metadata": {
    "colab": {
      "name": "Bienvenue dans Colaboratory",
      "toc_visible": true,
      "provenance": [],
      "include_colab_link": true
    },
    "kernelspec": {
      "display_name": "Python 3",
      "name": "python3"
    }
  },
  "nbformat": 4,
  "nbformat_minor": 0
}