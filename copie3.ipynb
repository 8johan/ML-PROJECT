{
  "cells": [
    {
      "cell_type": "markdown",
      "metadata": {
        "id": "view-in-github",
        "colab_type": "text"
      },
      "source": [
        "<a href=\"https://colab.research.google.com/github/8johan/ML-PROJ/blob/main/copie3.ipynb\" target=\"_parent\"><img src=\"https://colab.research.google.com/assets/colab-badge.svg\" alt=\"Open In Colab\"/></a>"
      ]
    },
    {
      "cell_type": "code",
      "source": [],
      "metadata": {
        "id": "ybUHBjaP2ocp"
      },
      "execution_count": null,
      "outputs": []
    },
    {
      "cell_type": "code",
      "source": [
        "import torch \n",
        "from __future__ import print_function, division\n",
        "import torch.nn as nn\n",
        "import torch.nn.functional as F\n",
        "import torchvision.transforms.functional as fn\n",
        "import torch.utils.data\n",
        "import torch\n",
        "def double_conv(data , intc,outc):\n",
        "  convo=nn.Sequential(\n",
        "            nn.Conv2d(intc, outc, kernel_size=3, stride=1, padding=0, bias=True),\n",
        "            #nn.BatchNorm2d(outc),\n",
        "            #nn.ReLU(inplace=True),\n",
        "            nn.Conv2d(outc, outc, kernel_size=3, stride=1, padding=0, bias=True),\n",
        "            nn.BatchNorm2d(outc),\n",
        "            nn.ReLU(inplace=True))\n",
        "  x=convo(data)\n",
        "  return x\n",
        "def upconv(data , intc, outc):\n",
        "  upco=nn.ConvTranspose2d(intc, outc, kernel_size=2, stride=2, padding=0)\n",
        "  x=upco(data)\n",
        "  return x \n",
        "def crop_copy(img,x):\n",
        "  croped_size=x.size()[2]\n",
        "  crop = fn.center_crop(img, output_size=[croped_size])\n",
        "  y=torch.cat((x, crop), dim=1)\n",
        "  return y\n",
        "\n",
        "\n",
        "\n"
      ],
      "metadata": {
        "id": "lKO3SDKU2piM"
      },
      "execution_count": 6,
      "outputs": []
    },
    {
      "cell_type": "code",
      "source": [
        "class countarctive_path(nn.Module):\n",
        "  def __init__(self) :\n",
        "    \n",
        "    super().__init__()\n",
        "    self.l=[]\n",
        "    self.maxpoll=nn.MaxPool2d(kernel_size=2, stride=2)\n",
        "  def forward(self,data):\n",
        "    x=double_conv(data,3,64)\n",
        "    self.l.append(x)\n",
        "    x=self.maxpoll(x)\n",
        "   \n",
        "    print(x.size())\n",
        "    x=double_conv(x,64,128)\n",
        "    self.l.append(x)\n",
        "    x=self.maxpoll(x)\n",
        " \n",
        "    print(x.size())\n",
        "    x=double_conv(x,128,256)\n",
        "    self.l.append(x)\n",
        "    x=self.maxpoll(x)\n",
        "    \n",
        "    print(x.size())\n",
        "    x=double_conv(x,256,512)\n",
        "    self.l.append(x)\n",
        "    x=self.maxpoll(x)\n",
        "  \n",
        "    print(x.size())\n",
        "    x=double_conv(x,512,1024)\n",
        "  \n",
        "    \n",
        "  \n",
        "    return x\n",
        "\n",
        "  \n",
        "\n",
        "\n"
      ],
      "metadata": {
        "id": "jJADp6h0IFTc"
      },
      "execution_count": 2,
      "outputs": []
    },
    {
      "cell_type": "code",
      "source": [
        "class expansive_path(nn.Module):\n",
        "  def __init(self,x):\n",
        "    super().__init__()\n",
        "    self.l=x\n",
        "\n",
        "  def forward(self , data ,l):\n",
        "    x=upconv(data , 1024 ,512)\n",
        "    x=crop_copy(l[3],x)\n",
        "    x=double_conv(x ,1024 ,512)\n",
        "    x=upconv(x, 512 ,256)\n",
        "    x=crop_copy(l[2],x)\n",
        "    x=double_conv(x ,512 ,256)\n",
        "    x=upconv(x , 256,128)\n",
        "    x=crop_copy(l[1],x)\n",
        "    x=double_conv(x ,256 ,128)\n",
        "    x=upconv(x , 128 ,64)\n",
        "    x=crop_copy(l[0],x)\n",
        "    x=double_conv(x ,128 ,64)\n",
        "    conv1=nn.Conv2d(64, 2, kernel_size=1, stride=1, padding=0, bias=True)\n",
        "    x=conv1(x)\n",
        "    print(x.size())\n",
        "    return x \n",
        "   \n",
        "    \n",
        "\n",
        "\n"
      ],
      "metadata": {
        "id": "VSBpBOJ0qBpV"
      },
      "execution_count": 3,
      "outputs": []
    },
    {
      "cell_type": "code",
      "source": [
        "class unet(nn.Module):\n",
        "  def __init__(self) :\n",
        "    super().__init__()\n",
        "    self.countratpath=countarctive_path()\n",
        "    self.expansivepath=expansive_path()\n",
        "  def forward(self,data):\n",
        "    x=self.countratpath.forward(data)\n",
        "    l=self.countratpath.l\n",
        "    x=self.expansivepath.forward(x,l)\n",
        "    \n",
        "    return x\n"
      ],
      "metadata": {
        "id": "2azljm_VOfgS"
      },
      "execution_count": 4,
      "outputs": []
    },
    {
      "cell_type": "code",
      "source": [
        "inputs = torch.randn((2, 3, 572, 572))\n",
        "modul=unet()\n",
        "y=modul.forward(inputs)"
      ],
      "metadata": {
        "id": "UKBd9kZrjwWF",
        "outputId": "7af16a6c-6679-44d7-f8f9-d4a9b04831e0",
        "colab": {
          "base_uri": "https://localhost:8080/"
        }
      },
      "execution_count": 7,
      "outputs": [
        {
          "output_type": "stream",
          "name": "stdout",
          "text": [
            "torch.Size([2, 64, 284, 284])\n",
            "torch.Size([2, 128, 140, 140])\n",
            "torch.Size([2, 256, 68, 68])\n",
            "torch.Size([2, 512, 32, 32])\n",
            "torch.Size([2, 2, 388, 388])\n"
          ]
        }
      ]
    }
  ],
  "metadata": {
    "colab": {
      "name": "Bienvenue dans Colaboratory",
      "toc_visible": true,
      "provenance": [],
      "include_colab_link": true
    },
    "kernelspec": {
      "display_name": "Python 3",
      "name": "python3"
    }
  },
  "nbformat": 4,
  "nbformat_minor": 0
}